{
 "cells": [
  {
   "cell_type": "markdown",
   "id": "422a4b60-7af7-4857-b610-c1478e9e4df0",
   "metadata": {},
   "source": [
    "# Step 1: Querying the Database and Loading Data into a DataFrame\r\n"
   ]
  },
  {
   "cell_type": "markdown",
   "id": "b6d9745b-b9b3-4eef-8bcc-d32902989201",
   "metadata": {},
   "source": [
    "1. Objective: To extract the data from the SQLite database file (calls.db) and load it into a pandas DataFrame. This step is essential as it sets the foundation for all subsequent analysis by making the data easily accessible and manipulable in Python.\n",
    "\n",
    "2. Tools/Modules Used:\n",
    "* sqlite3: To interact with the SQLite database.\n",
    "* pandas: To handle data in a DataFrame format, which allows for more complex operations like grouping, filtering, and high-level data manipulation."
   ]
  },
  {
   "cell_type": "code",
   "execution_count": 21,
   "id": "6d1e5441-9b5d-42d1-a2e0-3e312d75dff8",
   "metadata": {},
   "outputs": [
    {
     "data": {
      "text/html": [
       "<div>\n",
       "<style scoped>\n",
       "    .dataframe tbody tr th:only-of-type {\n",
       "        vertical-align: middle;\n",
       "    }\n",
       "\n",
       "    .dataframe tbody tr th {\n",
       "        vertical-align: top;\n",
       "    }\n",
       "\n",
       "    .dataframe thead th {\n",
       "        text-align: right;\n",
       "    }\n",
       "</style>\n",
       "<table border=\"1\" class=\"dataframe\">\n",
       "  <thead>\n",
       "    <tr style=\"text-align: right;\">\n",
       "      <th></th>\n",
       "      <th>ID</th>\n",
       "      <th>Call Duration</th>\n",
       "      <th>Call Frequency</th>\n",
       "      <th>Financial Loss</th>\n",
       "      <th>Flagged by Carrier</th>\n",
       "      <th>Is International</th>\n",
       "      <th>Previous Contact Count</th>\n",
       "      <th>Country Prefix</th>\n",
       "      <th>Call Type</th>\n",
       "      <th>Timestamp</th>\n",
       "      <th>Device Battery</th>\n",
       "      <th>Scam Call</th>\n",
       "    </tr>\n",
       "  </thead>\n",
       "  <tbody>\n",
       "    <tr>\n",
       "      <th>0</th>\n",
       "      <td>947429</td>\n",
       "      <td>-719</td>\n",
       "      <td>12</td>\n",
       "      <td>42.130000</td>\n",
       "      <td>Suspicious</td>\n",
       "      <td>Yes</td>\n",
       "      <td>1</td>\n",
       "      <td>95</td>\n",
       "      <td>Voip</td>\n",
       "      <td>2023-07-23 09:04:00</td>\n",
       "      <td>Fully Charged</td>\n",
       "      <td>Scam</td>\n",
       "    </tr>\n",
       "    <tr>\n",
       "      <th>1</th>\n",
       "      <td>540498</td>\n",
       "      <td>116</td>\n",
       "      <td>3</td>\n",
       "      <td>29.900000</td>\n",
       "      <td>Unlikely</td>\n",
       "      <td>Yes</td>\n",
       "      <td>0</td>\n",
       "      <td>91</td>\n",
       "      <td>Mobile</td>\n",
       "      <td>2023-09-05 20:11:00</td>\n",
       "      <td>Fully Charged</td>\n",
       "      <td>Scam</td>\n",
       "    </tr>\n",
       "    <tr>\n",
       "      <th>2</th>\n",
       "      <td>434243</td>\n",
       "      <td>29</td>\n",
       "      <td>16</td>\n",
       "      <td>723.460000</td>\n",
       "      <td>Very Suspicious</td>\n",
       "      <td>Yes</td>\n",
       "      <td>2</td>\n",
       "      <td>91</td>\n",
       "      <td>Voip</td>\n",
       "      <td>2023-12-16 11:03:00</td>\n",
       "      <td>Charging</td>\n",
       "      <td>Scam</td>\n",
       "    </tr>\n",
       "    <tr>\n",
       "      <th>3</th>\n",
       "      <td>903537</td>\n",
       "      <td>-563</td>\n",
       "      <td>4</td>\n",
       "      <td>64.287478</td>\n",
       "      <td>Unlikely</td>\n",
       "      <td>Yes</td>\n",
       "      <td>3</td>\n",
       "      <td>91</td>\n",
       "      <td>Telegram</td>\n",
       "      <td>2023-02-25 10:41:00</td>\n",
       "      <td>Fully Charged</td>\n",
       "      <td>Not Scam</td>\n",
       "    </tr>\n",
       "    <tr>\n",
       "      <th>4</th>\n",
       "      <td>969179</td>\n",
       "      <td>312</td>\n",
       "      <td>19</td>\n",
       "      <td>0.000000</td>\n",
       "      <td>Unlikely</td>\n",
       "      <td>Yes</td>\n",
       "      <td>0</td>\n",
       "      <td>91</td>\n",
       "      <td>Telegram</td>\n",
       "      <td>2023-11-10 15:53:00</td>\n",
       "      <td>Fully Charged</td>\n",
       "      <td>Scam</td>\n",
       "    </tr>\n",
       "  </tbody>\n",
       "</table>\n",
       "</div>"
      ],
      "text/plain": [
       "       ID  Call Duration  Call Frequency  Financial Loss Flagged by Carrier  \\\n",
       "0  947429           -719              12       42.130000         Suspicious   \n",
       "1  540498            116               3       29.900000           Unlikely   \n",
       "2  434243             29              16      723.460000    Very Suspicious   \n",
       "3  903537           -563               4       64.287478           Unlikely   \n",
       "4  969179            312              19        0.000000           Unlikely   \n",
       "\n",
       "  Is International  Previous Contact Count Country Prefix Call Type  \\\n",
       "0              Yes                       1             95      Voip   \n",
       "1              Yes                       0             91    Mobile   \n",
       "2              Yes                       2             91      Voip   \n",
       "3              Yes                       3             91  Telegram   \n",
       "4              Yes                       0             91  Telegram   \n",
       "\n",
       "             Timestamp Device Battery Scam Call  \n",
       "0  2023-07-23 09:04:00  Fully Charged      Scam  \n",
       "1  2023-09-05 20:11:00  Fully Charged      Scam  \n",
       "2  2023-12-16 11:03:00       Charging      Scam  \n",
       "3  2023-02-25 10:41:00  Fully Charged  Not Scam  \n",
       "4  2023-11-10 15:53:00  Fully Charged      Scam  "
      ]
     },
     "execution_count": 21,
     "metadata": {},
     "output_type": "execute_result"
    }
   ],
   "source": [
    "import sqlite3\n",
    "import pandas as pd\n",
    "import numpy as np\n",
    "\n",
    "# Establish a connection to the database file\n",
    "conn = sqlite3.connect('data/calls.db')\n",
    "\n",
    "# Query to select all data from the table (assuming the table is named 'calls')\n",
    "query = \"SELECT * FROM calls\"\n",
    "\n",
    "# Load the data into a DataFrame\n",
    "data = pd.read_sql_query(query, conn)\n",
    "\n",
    "# Close the database connection\n",
    "conn.close()\n",
    "\n",
    "# Display the first few rows of the DataFrame to confirm data is loaded correctly\n",
    "data.head()"
   ]
  },
  {
   "cell_type": "code",
   "execution_count": 22,
   "id": "0f8a151a-e3c6-4200-b829-95520dbb6ed8",
   "metadata": {},
   "outputs": [
    {
     "data": {
      "text/plain": [
       "(12000, 12)"
      ]
     },
     "execution_count": 22,
     "metadata": {},
     "output_type": "execute_result"
    }
   ],
   "source": [
    "data.shape"
   ]
  },
  {
   "cell_type": "markdown",
   "id": "d0d3407f-b37b-4291-866c-e58c9035d923",
   "metadata": {},
   "source": [
    "# Step 2: Data Cleaning\n"
   ]
  },
  {
   "cell_type": "markdown",
   "id": "b73cd1a2-bfba-4170-847b-a0b35497fc61",
   "metadata": {},
   "source": [
    "1. **Objective:** The primary aim of data cleaning is to prepare the dataset for analysis by handling missing values, correcting errors, and dealing with outliers. Clean data will ensure the analysis is accurate and the machine learning model is trained on high-quality data, which can significantly impact the performance.\n",
    " \n",
    "2. **Actions to Take:**\n",
    "* Handling Missing Values: Check for any missing values in the dataset and decide whether to fill them with a statistic (mean, median, mode) or to remove the rows/columns.\n",
    "* Correcting Errors: As observed, the Call Duration contains negative values. These need to be corrected because a call duration cannot be negative.\n",
    "Dealing with Outliers: Investigate other columns for possible outliers that might skew the analysis and decide how to handle them."
   ]
  },
  {
   "cell_type": "markdown",
   "id": "e9a46171-2e31-4959-aef1-626fc0db750f",
   "metadata": {},
   "source": [
    "## Identify Missing Values\r\n"
   ]
  },
  {
   "cell_type": "code",
   "execution_count": 23,
   "id": "74d23f7b-8511-47c3-b5a5-17019fcb6d0d",
   "metadata": {},
   "outputs": [
    {
     "data": {
      "text/plain": [
       "ID                           0\n",
       "Call Duration                0\n",
       "Call Frequency               0\n",
       "Financial Loss            1403\n",
       "Flagged by Carrier           0\n",
       "Is International             0\n",
       "Previous Contact Count       0\n",
       "Country Prefix               0\n",
       "Call Type                    0\n",
       "Timestamp                    0\n",
       "Device Battery               0\n",
       "Scam Call                    0\n",
       "dtype: int64"
      ]
     },
     "execution_count": 23,
     "metadata": {},
     "output_type": "execute_result"
    }
   ],
   "source": [
    "# Display the count of missing values in each column\n",
    "missing_values = data.isnull().sum()\n",
    "missing_values"
   ]
  },
  {
   "cell_type": "markdown",
   "id": "ec79b94e-10d4-4de1-a29f-57fa56cab05a",
   "metadata": {},
   "source": [
    "## Correct Negative Values in Call Duration\n"
   ]
  },
  {
   "cell_type": "markdown",
   "id": "c2c5ba8b-651b-4826-bead-7188b4656254",
   "metadata": {},
   "source": [
    "For the Call Duration column, negative values do not make sense and likely represent data entry errors. These can be handled by converting them to positive values, assuming they were entered as negative by mistake:"
   ]
  },
  {
   "cell_type": "code",
   "execution_count": 24,
   "id": "2a5eee52-7954-4253-b962-82bcbe5eeefd",
   "metadata": {},
   "outputs": [],
   "source": [
    "# Convert negative values in 'Call Duration' to positive\n",
    "data['Call Duration'] = data['Call Duration'].abs()"
   ]
  },
  {
   "cell_type": "markdown",
   "id": "8a2335a2-f32d-453c-8639-0eb51570be6b",
   "metadata": {},
   "source": [
    "## Handling Missing Values\r\n"
   ]
  },
  {
   "cell_type": "markdown",
   "id": "2e10ba01-40a3-4f2a-aadc-352cafe2d7b1",
   "metadata": {},
   "source": [
    "If there are any columns with missing values, decisions on how to handle them need to be made. For numerical data, common strategies include filling with the mean or median. For categorical data, modes or a specific category such as 'Unknown' can be used:"
   ]
  },
  {
   "cell_type": "code",
   "execution_count": 25,
   "id": "6635dc55-b9e2-44c2-bdf7-fb12c169f85c",
   "metadata": {},
   "outputs": [
    {
     "data": {
      "text/plain": [
       "(ID                           0\n",
       " Call Duration                0\n",
       " Call Frequency               0\n",
       " Financial Loss            1403\n",
       " Flagged by Carrier           0\n",
       " Is International             0\n",
       " Previous Contact Count       0\n",
       " Country Prefix               0\n",
       " Call Type                    0\n",
       " Timestamp                    0\n",
       " Device Battery               0\n",
       " Scam Call                    0\n",
       " dtype: int64,\n",
       "        ID  Call Duration  Call Frequency  Financial Loss Flagged by Carrier  \\\n",
       " 0  947429            719              12       42.130000         Suspicious   \n",
       " 1  540498            116               3       29.900000           Unlikely   \n",
       " 2  434243             29              16      723.460000    Very Suspicious   \n",
       " 3  903537            563               4       64.287478           Unlikely   \n",
       " 4  969179            312              19        0.000000           Unlikely   \n",
       " \n",
       "   Is International  Previous Contact Count Country Prefix Call Type  \\\n",
       " 0              Yes                       1             95      Voip   \n",
       " 1              Yes                       0             91    Mobile   \n",
       " 2              Yes                       2             91      Voip   \n",
       " 3              Yes                       3             91  Telegram   \n",
       " 4              Yes                       0             91  Telegram   \n",
       " \n",
       "              Timestamp Device Battery Scam Call  \n",
       " 0  2023-07-23 09:04:00  Fully Charged      Scam  \n",
       " 1  2023-09-05 20:11:00  Fully Charged      Scam  \n",
       " 2  2023-12-16 11:03:00       Charging      Scam  \n",
       " 3  2023-02-25 10:41:00  Fully Charged  Not Scam  \n",
       " 4  2023-11-10 15:53:00  Fully Charged      Scam  )"
      ]
     },
     "execution_count": 25,
     "metadata": {},
     "output_type": "execute_result"
    }
   ],
   "source": [
    "# Assuming Financial Loss has missing values, based on its nature\n",
    "data['Financial Loss'] = data['Financial Loss'].fillna(data['Financial Loss'].median())\n",
    "\n",
    "# Handling 'Flagged by Carrier' if it's a categorical variable and might have missing values\n",
    "if 'Flagged by Carrier' in data.columns:\n",
    "    if not data['Flagged by Carrier'].mode().empty:\n",
    "        data['Flagged by Carrier'] = data['Flagged by Carrier'].fillna(data['Flagged by Carrier'].mode()[0])\n",
    "    else:\n",
    "        data['Flagged by Carrier'] = data['Flagged by Carrier'].fillna('Unknown')  # Or another appropriate default value\n",
    "\n",
    "missing_values, data.head()"
   ]
  },
  {
   "cell_type": "code",
   "execution_count": 26,
   "id": "76415d07-ccd0-417c-a806-3ea526bcb474",
   "metadata": {},
   "outputs": [
    {
     "data": {
      "text/html": [
       "<div>\n",
       "<style scoped>\n",
       "    .dataframe tbody tr th:only-of-type {\n",
       "        vertical-align: middle;\n",
       "    }\n",
       "\n",
       "    .dataframe tbody tr th {\n",
       "        vertical-align: top;\n",
       "    }\n",
       "\n",
       "    .dataframe thead th {\n",
       "        text-align: right;\n",
       "    }\n",
       "</style>\n",
       "<table border=\"1\" class=\"dataframe\">\n",
       "  <thead>\n",
       "    <tr style=\"text-align: right;\">\n",
       "      <th></th>\n",
       "      <th>ID</th>\n",
       "      <th>Call Duration</th>\n",
       "      <th>Call Frequency</th>\n",
       "      <th>Financial Loss</th>\n",
       "      <th>Flagged by Carrier</th>\n",
       "      <th>Is International</th>\n",
       "      <th>Previous Contact Count</th>\n",
       "      <th>Country Prefix</th>\n",
       "      <th>Call Type</th>\n",
       "      <th>Timestamp</th>\n",
       "      <th>Device Battery</th>\n",
       "      <th>Scam Call</th>\n",
       "    </tr>\n",
       "  </thead>\n",
       "  <tbody>\n",
       "    <tr>\n",
       "      <th>0</th>\n",
       "      <td>947429</td>\n",
       "      <td>719</td>\n",
       "      <td>12</td>\n",
       "      <td>42.130000</td>\n",
       "      <td>Suspicious</td>\n",
       "      <td>Yes</td>\n",
       "      <td>1</td>\n",
       "      <td>95</td>\n",
       "      <td>Voip</td>\n",
       "      <td>2023-07-23 09:04:00</td>\n",
       "      <td>Fully Charged</td>\n",
       "      <td>Scam</td>\n",
       "    </tr>\n",
       "    <tr>\n",
       "      <th>1</th>\n",
       "      <td>540498</td>\n",
       "      <td>116</td>\n",
       "      <td>3</td>\n",
       "      <td>29.900000</td>\n",
       "      <td>Unlikely</td>\n",
       "      <td>Yes</td>\n",
       "      <td>0</td>\n",
       "      <td>91</td>\n",
       "      <td>Mobile</td>\n",
       "      <td>2023-09-05 20:11:00</td>\n",
       "      <td>Fully Charged</td>\n",
       "      <td>Scam</td>\n",
       "    </tr>\n",
       "    <tr>\n",
       "      <th>2</th>\n",
       "      <td>434243</td>\n",
       "      <td>29</td>\n",
       "      <td>16</td>\n",
       "      <td>723.460000</td>\n",
       "      <td>Very Suspicious</td>\n",
       "      <td>Yes</td>\n",
       "      <td>2</td>\n",
       "      <td>91</td>\n",
       "      <td>Voip</td>\n",
       "      <td>2023-12-16 11:03:00</td>\n",
       "      <td>Charging</td>\n",
       "      <td>Scam</td>\n",
       "    </tr>\n",
       "    <tr>\n",
       "      <th>3</th>\n",
       "      <td>903537</td>\n",
       "      <td>563</td>\n",
       "      <td>4</td>\n",
       "      <td>64.287478</td>\n",
       "      <td>Unlikely</td>\n",
       "      <td>Yes</td>\n",
       "      <td>3</td>\n",
       "      <td>91</td>\n",
       "      <td>Telegram</td>\n",
       "      <td>2023-02-25 10:41:00</td>\n",
       "      <td>Fully Charged</td>\n",
       "      <td>Not Scam</td>\n",
       "    </tr>\n",
       "    <tr>\n",
       "      <th>4</th>\n",
       "      <td>969179</td>\n",
       "      <td>312</td>\n",
       "      <td>19</td>\n",
       "      <td>0.000000</td>\n",
       "      <td>Unlikely</td>\n",
       "      <td>Yes</td>\n",
       "      <td>0</td>\n",
       "      <td>91</td>\n",
       "      <td>Telegram</td>\n",
       "      <td>2023-11-10 15:53:00</td>\n",
       "      <td>Fully Charged</td>\n",
       "      <td>Scam</td>\n",
       "    </tr>\n",
       "  </tbody>\n",
       "</table>\n",
       "</div>"
      ],
      "text/plain": [
       "       ID  Call Duration  Call Frequency  Financial Loss Flagged by Carrier  \\\n",
       "0  947429            719              12       42.130000         Suspicious   \n",
       "1  540498            116               3       29.900000           Unlikely   \n",
       "2  434243             29              16      723.460000    Very Suspicious   \n",
       "3  903537            563               4       64.287478           Unlikely   \n",
       "4  969179            312              19        0.000000           Unlikely   \n",
       "\n",
       "  Is International  Previous Contact Count Country Prefix Call Type  \\\n",
       "0              Yes                       1             95      Voip   \n",
       "1              Yes                       0             91    Mobile   \n",
       "2              Yes                       2             91      Voip   \n",
       "3              Yes                       3             91  Telegram   \n",
       "4              Yes                       0             91  Telegram   \n",
       "\n",
       "             Timestamp Device Battery Scam Call  \n",
       "0  2023-07-23 09:04:00  Fully Charged      Scam  \n",
       "1  2023-09-05 20:11:00  Fully Charged      Scam  \n",
       "2  2023-12-16 11:03:00       Charging      Scam  \n",
       "3  2023-02-25 10:41:00  Fully Charged  Not Scam  \n",
       "4  2023-11-10 15:53:00  Fully Charged      Scam  "
      ]
     },
     "execution_count": 26,
     "metadata": {},
     "output_type": "execute_result"
    }
   ],
   "source": [
    "data.head()"
   ]
  },
  {
   "cell_type": "markdown",
   "id": "aba49a00-0be3-40c1-9a73-d3e26290cb0c",
   "metadata": {},
   "source": [
    "The missing values in the dataset have been addressed, and corrections were made to the Call Duration column to ensure all values are positive. Here’s a summary of the actions taken:\r\n",
    "\r\n",
    "Call Duration: Negative values were converted to positive values, correcting potential data entry errors.\r\n",
    "Financial Loss: Missing values were filled with the median of the column to maintain a central tendency without being skewed by outliers.\r\n",
    "Flagged by Carrier: For this categorical variable, missing values were filled with the most frequent category (mode), ensuring that no data points were left undefined."
   ]
  },
  {
   "cell_type": "markdown",
   "id": "ec82368f-f003-41b4-a344-b57f33f8268e",
   "metadata": {},
   "source": [
    "# Step 3: Descriptive Statistics and Initial Analysis\r\n"
   ]
  },
  {
   "cell_type": "markdown",
   "id": "375d2915-da12-4fa6-84e9-1ebaf30a5c34",
   "metadata": {},
   "source": [
    "In this step, the goal is to gain an initial understanding of the data through descriptive statistics, which summarize the central tendency, dispersion, and shape of the dataset’s distribution. This analysis helps identify patterns, outliers, or anomalies that might merit further investigation."
   ]
  },
  {
   "cell_type": "markdown",
   "id": "f0cea036-0020-49bd-9f45-d795f83d4a13",
   "metadata": {},
   "source": [
    "## Descriptive Statistics\r\n"
   ]
  },
  {
   "cell_type": "code",
   "execution_count": 27,
   "id": "09e809d3-ab99-4983-b499-08b24ca36a07",
   "metadata": {},
   "outputs": [
    {
     "data": {
      "text/html": [
       "<div>\n",
       "<style scoped>\n",
       "    .dataframe tbody tr th:only-of-type {\n",
       "        vertical-align: middle;\n",
       "    }\n",
       "\n",
       "    .dataframe tbody tr th {\n",
       "        vertical-align: top;\n",
       "    }\n",
       "\n",
       "    .dataframe thead th {\n",
       "        text-align: right;\n",
       "    }\n",
       "</style>\n",
       "<table border=\"1\" class=\"dataframe\">\n",
       "  <thead>\n",
       "    <tr style=\"text-align: right;\">\n",
       "      <th></th>\n",
       "      <th>ID</th>\n",
       "      <th>Call Duration</th>\n",
       "      <th>Call Frequency</th>\n",
       "      <th>Financial Loss</th>\n",
       "      <th>Previous Contact Count</th>\n",
       "    </tr>\n",
       "  </thead>\n",
       "  <tbody>\n",
       "    <tr>\n",
       "      <th>count</th>\n",
       "      <td>12000.000000</td>\n",
       "      <td>12000.000000</td>\n",
       "      <td>12000.000000</td>\n",
       "      <td>12000.000000</td>\n",
       "      <td>12000.000000</td>\n",
       "    </tr>\n",
       "    <tr>\n",
       "      <th>mean</th>\n",
       "      <td>551248.413500</td>\n",
       "      <td>217.915083</td>\n",
       "      <td>10.698167</td>\n",
       "      <td>85.376871</td>\n",
       "      <td>1.861167</td>\n",
       "    </tr>\n",
       "    <tr>\n",
       "      <th>std</th>\n",
       "      <td>257920.330881</td>\n",
       "      <td>213.329657</td>\n",
       "      <td>5.861791</td>\n",
       "      <td>181.956590</td>\n",
       "      <td>1.765310</td>\n",
       "    </tr>\n",
       "    <tr>\n",
       "      <th>min</th>\n",
       "      <td>100017.000000</td>\n",
       "      <td>19.000000</td>\n",
       "      <td>2.000000</td>\n",
       "      <td>-896.400000</td>\n",
       "      <td>0.000000</td>\n",
       "    </tr>\n",
       "    <tr>\n",
       "      <th>25%</th>\n",
       "      <td>332326.250000</td>\n",
       "      <td>42.000000</td>\n",
       "      <td>6.000000</td>\n",
       "      <td>0.000000</td>\n",
       "      <td>0.000000</td>\n",
       "    </tr>\n",
       "    <tr>\n",
       "      <th>50%</th>\n",
       "      <td>545820.000000</td>\n",
       "      <td>120.000000</td>\n",
       "      <td>9.000000</td>\n",
       "      <td>11.719081</td>\n",
       "      <td>2.000000</td>\n",
       "    </tr>\n",
       "    <tr>\n",
       "      <th>75%</th>\n",
       "      <td>776049.250000</td>\n",
       "      <td>317.000000</td>\n",
       "      <td>15.000000</td>\n",
       "      <td>74.514060</td>\n",
       "      <td>3.000000</td>\n",
       "    </tr>\n",
       "    <tr>\n",
       "      <th>max</th>\n",
       "      <td>999709.000000</td>\n",
       "      <td>822.000000</td>\n",
       "      <td>27.000000</td>\n",
       "      <td>1055.440000</td>\n",
       "      <td>8.000000</td>\n",
       "    </tr>\n",
       "  </tbody>\n",
       "</table>\n",
       "</div>"
      ],
      "text/plain": [
       "                  ID  Call Duration  Call Frequency  Financial Loss  \\\n",
       "count   12000.000000   12000.000000    12000.000000    12000.000000   \n",
       "mean   551248.413500     217.915083       10.698167       85.376871   \n",
       "std    257920.330881     213.329657        5.861791      181.956590   \n",
       "min    100017.000000      19.000000        2.000000     -896.400000   \n",
       "25%    332326.250000      42.000000        6.000000        0.000000   \n",
       "50%    545820.000000     120.000000        9.000000       11.719081   \n",
       "75%    776049.250000     317.000000       15.000000       74.514060   \n",
       "max    999709.000000     822.000000       27.000000     1055.440000   \n",
       "\n",
       "       Previous Contact Count  \n",
       "count            12000.000000  \n",
       "mean                 1.861167  \n",
       "std                  1.765310  \n",
       "min                  0.000000  \n",
       "25%                  0.000000  \n",
       "50%                  2.000000  \n",
       "75%                  3.000000  \n",
       "max                  8.000000  "
      ]
     },
     "execution_count": 27,
     "metadata": {},
     "output_type": "execute_result"
    }
   ],
   "source": [
    "# Generate descriptive statistics for numerical columns\n",
    "descriptive_stats = data.describe()\n",
    "descriptive_stats"
   ]
  },
  {
   "cell_type": "markdown",
   "id": "6d898f9a-f2fe-4b2c-a9dc-b153f1563af3",
   "metadata": {},
   "source": [
    "## Visualization: Histograms for Numerical Data\r\n"
   ]
  },
  {
   "cell_type": "code",
   "execution_count": 28,
   "id": "407e1a51-20e5-40ce-a0cd-eb3192993d03",
   "metadata": {},
   "outputs": [
    {
     "data": {
      "image/png": "[encoded data removed]",
      "text/plain": [
       "<Figure size 1200x800 with 3 Axes>"
      ]
     },
     "metadata": {},
     "output_type": "display_data"
    }
   ],
   "source": [
    "import matplotlib.pyplot as plt\n",
    "\n",
    "# Plot histograms for numerical columns\n",
    "data.hist(['Call Duration', 'Call Frequency', 'Financial Loss'], bins=15, figsize=(12, 8), layout=(1, 3))\n",
    "plt.tight_layout()\n",
    "plt.show()"
   ]
  },
  {
   "cell_type": "markdown",
   "id": "54d01d06-0c34-40c0-9ce4-f1c36163fbb6",
   "metadata": {},
   "source": [
    "## Categorical Data Analysis: Value Counts\n"
   ]
  },
  {
   "cell_type": "code",
   "execution_count": 29,
   "id": "d97296b0-c124-4bb6-955e-5ce92e19a857",
   "metadata": {},
   "outputs": [
    {
     "data": {
      "text/plain": [
       "(Scam Call\n",
       " Not Scam    7554\n",
       " Scam        4446\n",
       " Name: count, dtype: int64,\n",
       " Is International\n",
       " Yes    11156\n",
       " No       844\n",
       " Name: count, dtype: int64,\n",
       " Flagged by Carrier\n",
       " Unlikely           9104\n",
       " Suspicious         1666\n",
       " Very Suspicious    1230\n",
       " Name: count, dtype: int64)"
      ]
     },
     "execution_count": 29,
     "metadata": {},
     "output_type": "execute_result"
    }
   ],
   "source": [
    "# Value counts for 'Scam Call' to see the balance of classes\n",
    "scam_call_counts = data['Scam Call'].value_counts()\n",
    "\n",
    "# Value counts for 'Is International'\n",
    "international_counts = data['Is International'].value_counts()\n",
    "\n",
    "# Value counts for 'Flagged by Carrier'\n",
    "carrier_flag_counts = data['Flagged by Carrier'].value_counts()\n",
    "\n",
    "scam_call_counts, international_counts, carrier_flag_counts"
   ]
  },
  {
   "cell_type": "markdown",
   "id": "7e9701a0-82f4-4541-a0cb-87efd4d751e6",
   "metadata": {},
   "source": [
    "# Results from Descriptive Statistics and Initial Analysis\n",
    "\n",
    "## Descriptive Statistics Summary\n",
    "\n",
    "The descriptive statistics for the numerical columns in the dataset are as follows:\n",
    "\n",
    "- **Call Duration**: Ranges from 19 seconds to 822 seconds, with an average duration of approximately 218 seconds. This suggests that most calls are fairly short.\n",
    "- **Call Frequency**: Ranges from 2 to 27 with a mean of around 10.7, indicating the average number of calls from the same number to all other numbers within 24 hours.\n",
    "- **Financial Loss**: Exhibits a wide range from negative values (which might need further investigation as they may represent refunds or errors) up to over 1055 SGD. The average financial loss is about 85 SGD, but the standard deviation is quite high, indicating significant variance.\n",
    "- **Previous Contact Count**: Shows that some numbers have called the same receiver up to 8 times, with an average of about 1.86 previous contacts.\n",
    "\n",
    "## Histograms\n",
    "\n",
    "The histograms displayed provide insights into the distributions of Call Duration, Call Frequency, and Financial Loss. Notably:\n",
    "\n",
    "- **Call Duration** shows a right-skewed distribution, indicating that shorter calls are more common.\n",
    "- **Call Frequency** also appears right-skewed, supporting the idea that higher frequencies are less common.\n",
    "- **Financial Loss** might require further analysis due to the presence of some extremely high values, which could be outliers.\n",
    "\n",
    "## Categorical Data Analysis\n",
    "\n",
    "- **Scam Call**: The dataset contains more 'Not Scam' (7554) instances than 'Scam' (4446), indicating a slight class imbalance that might affect model training.\n",
    "- **Is International**: A large majority of the calls (11156) are international, which could be a significant feature given the context of the problem.\n",
    "- **Flagged by Carrier**: Most calls are flagged as 'Unlikely' to be scam (9104), with fewer marked as 'Suspicious' (1666) and 'Very Suspicious' (1230). This categorization may be crucial for predicting scam calls.\n"
   ]
  },
  {
   "cell_type": "markdown",
   "id": "9c3b8922-6f3a-41a5-b6dc-6aca959a0ff7",
   "metadata": {},
   "source": [
    "## Step 4: Exploring Correlations and Feature Engineering\n"
   ]
  },
  {
   "cell_type": "markdown",
   "id": "68b400c9-bda1-45bb-910c-5f250dd916c2",
   "metadata": {},
   "source": [
    "## Correlation Matrix\r\n",
    "A correlation matrix will be computed to see how the numerical features relate to each other and to the target variable (Scam Call). This will help identify which features are most strongly associated with the likelihood of a call being a scam."
   ]
  },
  {
   "cell_type": "code",
   "execution_count": 30,
   "id": "40392e3f-7a4c-418a-be0e-f05c161d3db7",
   "metadata": {},
   "outputs": [
    {
     "data": {
      "image/png": "[encoded data removed]",
      "text/plain": [
       "<Figure size 1000x800 with 2 Axes>"
      ]
     },
     "metadata": {},
     "output_type": "display_data"
    }
   ],
   "source": [
    "import seaborn as sns\n",
    "\n",
    "# Convert 'Scam Call' from categorical to a binary numeric column for correlation analysis\n",
    "data['Scam Call Binary'] = data['Scam Call'].apply(lambda x: 1 if x == 'Scam' else 0)\n",
    "\n",
    "# Compute the correlation matrix including the new binary scam call column\n",
    "correlation_matrix = data[['Call Duration', 'Call Frequency', 'Financial Loss', 'Previous Contact Count', 'Scam Call Binary']].corr()\n",
    "\n",
    "# Plot the correlation matrix using a heatmap\n",
    "plt.figure(figsize=(10, 8))\n",
    "sns.heatmap(correlation_matrix, annot=True, fmt=\".2f\", cmap='coolwarm')\n",
    "plt.title('Correlation Matrix')\n",
    "plt.show()"
   ]
  },
  {
   "cell_type": "markdown",
   "id": "26273d57-9c9d-4f86-86b9-6cb1336faa38",
   "metadata": {},
   "source": [
    "## Feature Engineering\n",
    "Based on the correlation insights and domain understanding, new features can be engineered. For example:\n",
    "\n",
    "* Interaction Terms: Create new features that are interactions of existing features if they are believed to interact in affecting the target.\n",
    "* Aggregated Features: If there are logical groupings or types of calls, features like averages or sums over groups could be useful.\n",
    "* Flag Transformations: Convert categorical flags like 'Flagged by Carrier' into numeric codes that might be easier for machine learning models to utilize."
   ]
  },
  {
   "cell_type": "code",
   "execution_count": 31,
   "id": "7c81cf35-bccf-4fc6-a237-19ad74c51b61",
   "metadata": {},
   "outputs": [],
   "source": [
    "# Create a feature combining 'Call Duration' and 'Call Frequency' as an interaction term\n",
    "data['Duration_Frequency_Interaction'] = data['Call Duration'] * data['Call Frequency']"
   ]
  },
  {
   "cell_type": "markdown",
   "id": "5ad58417-254c-4fac-a47a-dcc6e5c7efc5",
   "metadata": {},
   "source": [
    "## Step 5: Advanced Feature Engineering\n",
    "### Objective: \n",
    "Develop additional features that could enhance the predictive accuracy by capturing complex patterns or interactions in the data."
   ]
  },
  {
   "cell_type": "code",
   "execution_count": 32,
   "id": "f5010780-7090-4b3e-81f2-86b398ac672c",
   "metadata": {},
   "outputs": [],
   "source": [
    "# Creating a binary feature for high financial loss\n",
    "data['High Financial Loss'] = (data['Financial Loss'] > data['Financial Loss'].quantile(0.75)).astype(int)"
   ]
  },
  {
   "cell_type": "markdown",
   "id": "848087f6-e521-4e73-a426-b73b1c9b0599",
   "metadata": {},
   "source": [
    "## Step 6: Data Preprocessing for Modeling\n"
   ]
  },
  {
   "cell_type": "markdown",
   "id": "5f6e9e3e-a1d8-4f78-af8d-3a86eacf3058",
   "metadata": {},
   "source": [
    "### Objective: \n",
    "Prepare the dataset for machine learning modeling, which includes handling categorical variables, normalizing data, and splitting the dataset."
   ]
  },
  {
   "cell_type": "code",
   "execution_count": 34,
   "id": "7e838a3c-3843-43eb-8d12-23154cf39711",
   "metadata": {},
   "outputs": [],
   "source": [
    "from sklearn.model_selection import train_test_split\n",
    "from sklearn.preprocessing import StandardScaler, OneHotEncoder\n",
    "from sklearn.compose import ColumnTransformer\n",
    "from sklearn.pipeline import Pipeline\n",
    "\n",
    "# Identifying categorical and numerical columns\n",
    "categorical_cols = ['Is International', 'Flagged by Carrier', 'Call Type', 'Device Battery']\n",
    "numerical_cols = ['Call Duration', 'Call Frequency', 'Financial Loss', 'Previous Contact Count', 'Duration_Frequency_Interaction']\n",
    "\n",
    "# Creating a transformer pipeline\n",
    "preprocessor = ColumnTransformer(\n",
    "    transformers=[\n",
    "        ('num', StandardScaler(), numerical_cols),\n",
    "        ('cat', OneHotEncoder(), categorical_cols)\n",
    "    ])\n",
    "\n",
    "# Splitting the data into training and testing sets\n",
    "X = data[numerical_cols + categorical_cols]\n",
    "y = data['Scam Call Binary']\n",
    "X_train, X_test, y_train, y_test = train_test_split(X, y, test_size=0.2, random_state=42)\n",
    "\n",
    "# Applying transformations\n",
    "X_train_transformed = preprocessor.fit_transform(X_train)\n",
    "X_test_transformed = preprocessor.transform(X_test)"
   ]
  },
  {
   "cell_type": "markdown",
   "id": "31a7e271-1176-491e-9ac8-3a3337da61bc",
   "metadata": {},
   "source": [
    "### Explanation: \n",
    "This step standardizes numerical data to have a mean of zero and a standard deviation of one, and converts categorical data into a format suitable for modeling (one-hot encoding). The data is then split into training and testing sets."
   ]
  },
  {
   "cell_type": "markdown",
   "id": "e7c56c3c-df04-4b09-8824-4f3c07d2508c",
   "metadata": {},
   "source": [
    "## Step 7: Export Preprocessed Data\n"
   ]
  },
  {
   "cell_type": "markdown",
   "id": "b78ff75a-ab15-448b-a677-513454c58541",
   "metadata": {},
   "source": [
    "### Objective: \n",
    "Save the preprocessed data to disk, making it accessible for the machine learning pipeline."
   ]
  },
  {
   "cell_type": "code",
   "execution_count": 36,
   "id": "cca1fc72-9fa0-4b38-b54f-40dd15fd6785",
   "metadata": {},
   "outputs": [],
   "source": [
    "import joblib\n",
    "\n",
    "# Save the preprocessor and the split datasets\n",
    "joblib.dump(preprocessor, 'data/preprocessor.joblib')\n",
    "np.savez('data/train_test_data.npz', X_train=X_train_transformed, y_train=y_train, X_test=X_test_transformed, y_test=y_test)"
   ]
  }
 ],
 "metadata": {
  "kernelspec": {
   "display_name": "Python 3 (ipykernel)",
   "language": "python",
   "name": "python3"
  },
  "language_info": {
   "codemirror_mode": {
    "name": "ipython",
    "version": 3
   },
   "file_extension": ".py",
   "mimetype": "text/x-python",
   "name": "python",
   "nbconvert_exporter": "python",
   "pygments_lexer": "ipython3",
   "version": "3.10.14"
  }
 },
 "nbformat": 4,
 "nbformat_minor": 5
}
